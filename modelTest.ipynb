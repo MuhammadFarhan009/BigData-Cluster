{
 "cells": [
  {
   "cell_type": "code",
   "execution_count": 1,
   "metadata": {},
   "outputs": [
    {
     "name": "stderr",
     "output_type": "stream",
     "text": [
      "24/12/07 08:55:08 WARN Utils: Your hostname, codespaces-be24d3 resolves to a loopback address: 127.0.0.1; using 10.0.7.5 instead (on interface eth0)\n",
      "24/12/07 08:55:08 WARN Utils: Set SPARK_LOCAL_IP if you need to bind to another address\n",
      "Setting default log level to \"WARN\".\n",
      "To adjust logging level use sc.setLogLevel(newLevel). For SparkR, use setLogLevel(newLevel).\n",
      "24/12/07 08:55:09 WARN NativeCodeLoader: Unable to load native-hadoop library for your platform... using builtin-java classes where applicable\n",
      "24/12/07 08:55:21 WARN StringIndexerModel: Input column Label does not exist during transformation. Skip StringIndexerModel for this column.\n",
      "                                                                                \r"
     ]
    },
    {
     "name": "stdout",
     "output_type": "stream",
     "text": [
      "+----------------------------------------------------------------------------------------------------------+---------------+\n",
      "|Content                                                                                                   |predicted_label|\n",
      "+----------------------------------------------------------------------------------------------------------+---------------+\n",
      "|Indonesia-Filipina Sepakat Pulangkan Terpidana Mati Kasus Narkoba Mary Jane                               |bisnis         |\n",
      "|Gara-gara Judi, Jenderal Bobby Razia Semua Prajurit TNI Kodam Hasanuddin                                  |berita         |\n",
      "|Bank Mandiri Dukung Program Makan Bergizi Gratis, Dorong Pertumbuhan Ekonomi Kerakyatan yang Berkelanjutan|bisnis         |\n",
      "+----------------------------------------------------------------------------------------------------------+---------------+\n",
      "\n"
     ]
    }
   ],
   "source": [
    "from pyspark.sql import SparkSession\n",
    "from pyspark.sql.functions import col, udf\n",
    "from pyspark.sql.types import StringType\n",
    "from pyspark.ml.pipeline import PipelineModel\n",
    "\n",
    "# Initialize SparkSession\n",
    "spark = SparkSession.builder \\\n",
    "    .appName(\"Load Local Model and Predict\") \\\n",
    "    .getOrCreate()\n",
    "\n",
    "# Local path where the model is saved\n",
    "model_save_path = \"text_classification_model2\"\n",
    "\n",
    "# Load the model from local\n",
    "loaded_model = PipelineModel.load(model_save_path)\n",
    "\n",
    "# Create a sample dataframe with new data to test\n",
    "new_data = [\n",
    "    (\"Indonesia-Filipina Sepakat Pulangkan Terpidana Mati Kasus Narkoba Mary Jane\",), \n",
    "    (\"Gara-gara Judi, Jenderal Bobby Razia Semua Prajurit TNI Kodam Hasanuddin\",),\n",
    "    (\"Bank Mandiri Dukung Program Makan Bergizi Gratis, Dorong Pertumbuhan Ekonomi Kerakyatan yang Berkelanjutan\",)\n",
    "]\n",
    "\n",
    "columns = [\"Content\"]\n",
    "\n",
    "new_df = spark.createDataFrame(new_data, columns)\n",
    "\n",
    "# Make predictions\n",
    "predictions = loaded_model.transform(new_df)\n",
    "\n",
    "# Get the labels from the StringIndexer used during training\n",
    "labels = loaded_model.stages[-2].labels  # Assuming StringIndexer is the second-last stage\n",
    "\n",
    "# Map predictions to their original labels\n",
    "map_label_udf = udf(lambda x: labels[int(x)], StringType())\n",
    "predictions = predictions.withColumn(\"predicted_label\", map_label_udf(col(\"prediction\")))\n",
    "\n",
    "# Show predictions with labels\n",
    "predictions.select(\"Content\", \"predicted_label\").show(truncate=False)\n",
    "\n",
    "# Stop the SparkSession\n",
    "spark.stop()"
   ]
  },
  {
   "cell_type": "code",
   "execution_count": null,
   "metadata": {},
   "outputs": [],
   "source": [
    "spark.stop()\n"
   ]
  },
  {
   "cell_type": "code",
   "execution_count": 13,
   "metadata": {},
   "outputs": [
    {
     "name": "stdout",
     "output_type": "stream",
     "text": [
      "Label\n",
      "label\n"
     ]
    }
   ],
   "source": [
    "print(loaded_model.stages[4].getInputCol())  # Expected input column for the Tokenizer\n",
    "print(loaded_model.stages[4].getOutputCol())  # Output column from the Tokenizer\n"
   ]
  },
  {
   "cell_type": "code",
   "execution_count": null,
   "metadata": {},
   "outputs": [],
   "source": []
  }
 ],
 "metadata": {
  "kernelspec": {
   "display_name": "Python 3",
   "language": "python",
   "name": "python3"
  },
  "language_info": {
   "codemirror_mode": {
    "name": "ipython",
    "version": 3
   },
   "file_extension": ".py",
   "mimetype": "text/x-python",
   "name": "python",
   "nbconvert_exporter": "python",
   "pygments_lexer": "ipython3",
   "version": "3.12.1"
  }
 },
 "nbformat": 4,
 "nbformat_minor": 2
}
